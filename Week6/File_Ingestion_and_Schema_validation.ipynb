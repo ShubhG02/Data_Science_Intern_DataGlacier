{
  "nbformat": 4,
  "nbformat_minor": 0,
  "metadata": {
    "colab": {
      "provenance": []
    },
    "kernelspec": {
      "name": "python3",
      "display_name": "Python 3"
    },
    "language_info": {
      "name": "python"
    }
  },
  "cells": [
    {
      "cell_type": "code",
      "execution_count": 1,
      "metadata": {
        "id": "AOhZgjQK2sqq"
      },
      "outputs": [],
      "source": [
        "import os\n",
        "import time\n"
      ]
    },
    {
      "cell_type": "code",
      "source": [
        "#Size of the file\n",
        "os.path.getsize('/content/Rate.csv')"
      ],
      "metadata": {
        "colab": {
          "base_uri": "https://localhost:8080/"
        },
        "id": "Uttc1Fiy6H04",
        "outputId": "f642793c-6c96-4dc0-e1ed-9cc523da1321"
      },
      "execution_count": 2,
      "outputs": [
        {
          "output_type": "execute_result",
          "data": {
            "text/plain": [
              "428867584"
            ]
          },
          "metadata": {},
          "execution_count": 2
        }
      ]
    },
    {
      "cell_type": "code",
      "source": [
        "from dask import dataframe as dd\n",
        "start = time.time()\n",
        "dask_df = dd.read_csv('/content/Rate.csv')\n",
        "end = time.time()\n",
        "print(\"Read csv with dask: \",(end-start),\"sec\")"
      ],
      "metadata": {
        "colab": {
          "base_uri": "https://localhost:8080/"
        },
        "id": "H95IZhvx6a0X",
        "outputId": "c08ad221-fc14-4062-d0ce-1d074793ac83"
      },
      "execution_count": 3,
      "outputs": [
        {
          "output_type": "stream",
          "name": "stdout",
          "text": [
            "Read csv with dask:  0.01694655418395996 sec\n"
          ]
        }
      ]
    },
    {
      "cell_type": "code",
      "source": [
        "import pandas as pd\n",
        "start = time.time()\n",
        "df = pd.read_csv('/content/Rate.csv')\n",
        "end = time.time()\n",
        "print(\"Read csv with pandas: \",(end-start),\"sec\")"
      ],
      "metadata": {
        "colab": {
          "base_uri": "https://localhost:8080/"
        },
        "id": "-mAxL4My6WFs",
        "outputId": "3f80fc29-4608-4555-f161-1d23f23d9c7e"
      },
      "execution_count": 4,
      "outputs": [
        {
          "output_type": "stream",
          "name": "stdout",
          "text": [
            "Read csv with pandas:  15.812951564788818 sec\n"
          ]
        }
      ]
    },
    {
      "cell_type": "markdown",
      "source": [
        "Here Dask is better than pandas "
      ],
      "metadata": {
        "id": "Bde3yUf968fz"
      }
    },
    {
      "cell_type": "code",
      "source": [
        "from dask import dataframe as dd\n",
        "df = dd.read_csv('/content/Rate.csv',delimiter=',')"
      ],
      "metadata": {
        "id": "S20omhze6_eU"
      },
      "execution_count": 5,
      "outputs": []
    },
    {
      "cell_type": "code",
      "source": [
        "df.info()"
      ],
      "metadata": {
        "colab": {
          "base_uri": "https://localhost:8080/"
        },
        "id": "ogtOFaZg7E2m",
        "outputId": "35aee319-a0c3-40c6-a5b3-f06394f2ce17"
      },
      "execution_count": 6,
      "outputs": [
        {
          "output_type": "stream",
          "name": "stdout",
          "text": [
            "<class 'dask.dataframe.core.DataFrame'>\n",
            "Columns: 24 entries, BusinessYear to RowNumber\n",
            "dtypes: object(10), float64(9), int64(5)"
          ]
        }
      ]
    },
    {
      "cell_type": "code",
      "source": [
        "#No. of Rows\n",
        "len(df.index)"
      ],
      "metadata": {
        "colab": {
          "base_uri": "https://localhost:8080/"
        },
        "id": "m6zVWCyB7G2-",
        "outputId": "44bb51a6-7695-4f6e-d347-437c82b0cff9"
      },
      "execution_count": 7,
      "outputs": [
        {
          "output_type": "execute_result",
          "data": {
            "text/plain": [
              "2834695"
            ]
          },
          "metadata": {},
          "execution_count": 7
        }
      ]
    },
    {
      "cell_type": "code",
      "source": [
        "#No, of Columns\n",
        "len(df.columns)"
      ],
      "metadata": {
        "colab": {
          "base_uri": "https://localhost:8080/"
        },
        "id": "PVsbnxze7IWI",
        "outputId": "57ff2e03-844b-4594-bb23-d67a85495433"
      },
      "execution_count": 8,
      "outputs": [
        {
          "output_type": "execute_result",
          "data": {
            "text/plain": [
              "24"
            ]
          },
          "metadata": {},
          "execution_count": 8
        }
      ]
    },
    {
      "cell_type": "code",
      "source": [
        "# remove special character\n",
        "df.columns=df.columns.str.replace('[#,@,&]','')"
      ],
      "metadata": {
        "colab": {
          "base_uri": "https://localhost:8080/"
        },
        "id": "vT_cyTEG7K8h",
        "outputId": "180a2721-4ff1-4f77-8b43-e4ea7d857678"
      },
      "execution_count": 9,
      "outputs": [
        {
          "output_type": "stream",
          "name": "stderr",
          "text": [
            "<ipython-input-9-554f595a0ef5>:2: FutureWarning: The default value of regex will change from True to False in a future version.\n",
            "  df.columns=df.columns.str.replace('[#,@,&]','')\n"
          ]
        }
      ]
    },
    {
      "cell_type": "code",
      "source": [
        "#To remove white space from columns\n",
        "df.columns = df.columns.str.replace(' ', '')"
      ],
      "metadata": {
        "id": "CgiooQBx7Qb9"
      },
      "execution_count": 10,
      "outputs": []
    },
    {
      "cell_type": "code",
      "source": [
        "data=df.columns\n",
        "data"
      ],
      "metadata": {
        "colab": {
          "base_uri": "https://localhost:8080/"
        },
        "id": "wIIu10rE7Qxv",
        "outputId": "754c886e-3db8-403a-f0e5-da4be81880fc"
      },
      "execution_count": 11,
      "outputs": [
        {
          "output_type": "execute_result",
          "data": {
            "text/plain": [
              "Index(['BusinessYear', 'StateCode', 'IssuerId', 'SourceName', 'VersionNum',\n",
              "       'ImportDate', 'IssuerId2', 'FederalTIN', 'RateEffectiveDate',\n",
              "       'RateExpirationDate', 'PlanId', 'RatingAreaId', 'Tobacco', 'Age',\n",
              "       'IndividualRate', 'IndividualTobaccoRate', 'Couple',\n",
              "       'PrimarySubscriberAndOneDependent', 'PrimarySubscriberAndTwoDependents',\n",
              "       'PrimarySubscriberAndThreeOrMoreDependents', 'CoupleAndOneDependent',\n",
              "       'CoupleAndTwoDependents', 'CoupleAndThreeOrMoreDependents',\n",
              "       'RowNumber'],\n",
              "      dtype='object')"
            ]
          },
          "metadata": {},
          "execution_count": 11
        }
      ]
    },
    {
      "cell_type": "markdown",
      "source": [
        "validation"
      ],
      "metadata": {
        "id": "t3e3ZrfE7UtU"
      }
    },
    {
      "cell_type": "code",
      "source": [
        "import logging\n",
        "import os\n",
        "import subprocess\n",
        "import yaml\n",
        "import pandas as pd\n",
        "import datetime \n",
        "import gc\n",
        "import re"
      ],
      "metadata": {
        "id": "USEWwo9_7Tqm"
      },
      "execution_count": 12,
      "outputs": []
    },
    {
      "cell_type": "code",
      "source": [
        "%%writefile utility.py\n",
        "import yaml\n",
        "def read_config_file(filepath):\n",
        "    with open(filepath, 'r') as stream:\n",
        "        try:\n",
        "            return yaml.load(stream, Loader=yaml.Loader)\n",
        "        except yaml.YAMLError as exc:\n",
        "            logging.error(exc)\n",
        "\n",
        "def col_header_val(df,table_config):\n",
        "    df.columns = df.columns.str.lower()\n",
        "    df.columns = df.columns.str.replace('[^\\w]','_',regex=True)\n",
        "    df.columns = list(map(lambda x: x.strip('_'), list(df.columns)))\n",
        "    df.columns = list(map(lambda x: replacer(x,'_'), list(df.columns)))\n",
        "    expected_col = list(map(lambda x: x.lower(),  table_config['columns']))\n",
        "    expected_col.sort()\n",
        "    df.columns =list(map(lambda x: x.lower(), list(df.columns)))\n",
        "    df = df.reindex(sorted(df.columns), axis=1)\n",
        "    if len(df.columns) == len(expected_col) and list(expected_col)  == list(df.columns):\n",
        "        print(\"column name and column length validation passed\")\n",
        "        return 1\n",
        "    else:\n",
        "        print(\"column name and column length validation failed\")\n",
        "        mismatched_columns_file = list(set(df.columns).difference(expected_col))\n",
        "        print(\"Following File columns are not in the YAML file\",mismatched_columns_file)\n",
        "        missing_YAML_file = list(set(expected_col).difference(df.columns))\n",
        "        print(\"Following YAML columns are not in the file uploaded\",missing_YAML_file)\n",
        "        logging.info(f'df columns: {df.columns}')\n",
        "        logging.info(f'expected columns: {expected_col}')\n",
        "        return 0"
      ],
      "metadata": {
        "colab": {
          "base_uri": "https://localhost:8080/"
        },
        "id": "pArwZIzx7bro",
        "outputId": "f8367dff-244c-4d05-a52d-62f6575852bb"
      },
      "execution_count": 13,
      "outputs": [
        {
          "output_type": "stream",
          "name": "stdout",
          "text": [
            "Overwriting utility.py\n"
          ]
        }
      ]
    },
    {
      "cell_type": "code",
      "source": [
        "%%writefile store.yaml\n",
        "file_type: csv\n",
        "dataset_name: file\n",
        "file_name: Rate\n",
        "table_name: edsurv\n",
        "inbound_delimiter: \",\"\n",
        "outbound_delimiter: \"|\"\n",
        "skip_leading_rows: 1\n",
        "columns: \n",
        "    - BusinessYear\n",
        "      - StateCode\n",
        "      - IssuerId\n",
        "      - SourceName\n",
        "      - VersionNum\n",
        "      - ImportDate\n",
        "      - IssuerId2\n",
        "      - FederalTIN\n",
        "      - RateEffectiveDate\n",
        "      - RateExpirationDate\n",
        "      - PlanId\n",
        "      - RatingAreaId\n",
        "      - Tobacco\n",
        "      - Age\n",
        "      - IndividualRate\n",
        "      - IndividualTobaccoRate\n",
        "      - Couple\n",
        "      - PrimarySubscriberAndOneDependent\n",
        "      - PrimarySubscriberAndTwoDependents\n",
        "      - PrimarySubscriberAndThreeOrMoreDependents\n",
        "      - CoupleAndOneDependent\n",
        "      - CoupleAndTwoDependents\n",
        "      - CoupleAndThreeOrMoreDependents\n",
        "      - RowNumber\n"
      ],
      "metadata": {
        "colab": {
          "base_uri": "https://localhost:8080/"
        },
        "id": "9v90dSpT7fBk",
        "outputId": "5bdec437-a133-412b-f328-2e2a66f83687"
      },
      "execution_count": 14,
      "outputs": [
        {
          "output_type": "stream",
          "name": "stdout",
          "text": [
            "Overwriting store.yaml\n"
          ]
        }
      ]
    },
    {
      "cell_type": "code",
      "source": [
        "import yaml\n"
      ],
      "metadata": {
        "id": "Kq_fEkWW7zdm"
      },
      "execution_count": 15,
      "outputs": []
    },
    {
      "cell_type": "code",
      "source": [
        "import utility as util\n",
        "import yaml\n",
        "\n",
        "config_data = util.read_config_file(\"/content/store.yaml\")\n"
      ],
      "metadata": {
        "id": "NHLE4q637m3R"
      },
      "execution_count": 16,
      "outputs": []
    },
    {
      "cell_type": "code",
      "source": [
        "#data of config file\n",
        "config_data"
      ],
      "metadata": {
        "colab": {
          "base_uri": "https://localhost:8080/"
        },
        "id": "_xZU0iJ18ATF",
        "outputId": "d03ed639-2dc4-492e-eb74-2fdfdaa0a2bb"
      },
      "execution_count": 17,
      "outputs": [
        {
          "output_type": "execute_result",
          "data": {
            "text/plain": [
              "{'file_type': 'csv',\n",
              " 'dataset_name': 'file',\n",
              " 'file_name': 'Rate',\n",
              " 'table_name': 'edsurv',\n",
              " 'inbound_delimiter': ',',\n",
              " 'outbound_delimiter': '|',\n",
              " 'skip_leading_rows': 1,\n",
              " 'columns': ['BusinessYear - StateCode - IssuerId - SourceName - VersionNum - ImportDate - IssuerId2 - FederalTIN - RateEffectiveDate - RateExpirationDate - PlanId - RatingAreaId - Tobacco - Age - IndividualRate - IndividualTobaccoRate - Couple - PrimarySubscriberAndOneDependent - PrimarySubscriberAndTwoDependents - PrimarySubscriberAndThreeOrMoreDependents - CoupleAndOneDependent - CoupleAndTwoDependents - CoupleAndThreeOrMoreDependents - RowNumber']}"
            ]
          },
          "metadata": {},
          "execution_count": 17
        }
      ]
    },
    {
      "cell_type": "code",
      "source": [
        "# Reading process of the file using Dask\n",
        "from dask import dataframe as dd\n",
        "df_sample = dd.read_csv('/content/Rate.csv',delimiter=',')\n",
        "df_sample.head()\n"
      ],
      "metadata": {
        "colab": {
          "base_uri": "https://localhost:8080/",
          "height": 386
        },
        "id": "UPnq8v_38stS",
        "outputId": "8e3a1c09-a395-4d5f-8fc4-eb46fd842068"
      },
      "execution_count": 18,
      "outputs": [
        {
          "output_type": "execute_result",
          "data": {
            "text/plain": [
              "   BusinessYear StateCode  IssuerId SourceName  VersionNum  \\\n",
              "0          2014        AK     21989       HIOS           6   \n",
              "1          2014        AK     21989       HIOS           6   \n",
              "2          2014        AK     21989       HIOS           6   \n",
              "3          2014        AK     21989       HIOS           6   \n",
              "4          2014        AK     21989       HIOS           6   \n",
              "\n",
              "            ImportDate  IssuerId2  FederalTIN RateEffectiveDate  \\\n",
              "0  2014-03-19 07:06:49      21989  93-0438772        2014-01-01   \n",
              "1  2014-03-19 07:06:49      21989  93-0438772        2014-01-01   \n",
              "2  2014-03-19 07:06:49      21989  93-0438772        2014-01-01   \n",
              "3  2014-03-19 07:06:49      21989  93-0438772        2014-01-01   \n",
              "4  2014-03-19 07:06:49      21989  93-0438772        2014-01-01   \n",
              "\n",
              "  RateExpirationDate  ... IndividualRate IndividualTobaccoRate Couple  \\\n",
              "0         2014-12-31  ...          29.00                   NaN    NaN   \n",
              "1         2014-12-31  ...          36.95                   NaN   73.9   \n",
              "2         2014-12-31  ...          36.95                   NaN   73.9   \n",
              "3         2014-12-31  ...          32.00                   NaN    NaN   \n",
              "4         2014-12-31  ...          32.00                   NaN    NaN   \n",
              "\n",
              "  PrimarySubscriberAndOneDependent  PrimarySubscriberAndTwoDependents  \\\n",
              "0                              NaN                                NaN   \n",
              "1                           107.61                             107.61   \n",
              "2                           107.61                             107.61   \n",
              "3                              NaN                                NaN   \n",
              "4                              NaN                                NaN   \n",
              "\n",
              "   PrimarySubscriberAndThreeOrMoreDependents  CoupleAndOneDependent  \\\n",
              "0                                        NaN                    NaN   \n",
              "1                                     107.61                 144.56   \n",
              "2                                     107.61                 144.56   \n",
              "3                                        NaN                    NaN   \n",
              "4                                        NaN                    NaN   \n",
              "\n",
              "   CoupleAndTwoDependents  CoupleAndThreeOrMoreDependents  RowNumber  \n",
              "0                     NaN                             NaN         14  \n",
              "1                  144.56                          144.56         14  \n",
              "2                  144.56                          144.56         15  \n",
              "3                     NaN                             NaN         15  \n",
              "4                     NaN                             NaN         16  \n",
              "\n",
              "[5 rows x 24 columns]"
            ],
            "text/html": [
              "\n",
              "  <div id=\"df-6801fbc2-5d0a-4e89-9e63-3a81abdcb860\">\n",
              "    <div class=\"colab-df-container\">\n",
              "      <div>\n",
              "<style scoped>\n",
              "    .dataframe tbody tr th:only-of-type {\n",
              "        vertical-align: middle;\n",
              "    }\n",
              "\n",
              "    .dataframe tbody tr th {\n",
              "        vertical-align: top;\n",
              "    }\n",
              "\n",
              "    .dataframe thead th {\n",
              "        text-align: right;\n",
              "    }\n",
              "</style>\n",
              "<table border=\"1\" class=\"dataframe\">\n",
              "  <thead>\n",
              "    <tr style=\"text-align: right;\">\n",
              "      <th></th>\n",
              "      <th>BusinessYear</th>\n",
              "      <th>StateCode</th>\n",
              "      <th>IssuerId</th>\n",
              "      <th>SourceName</th>\n",
              "      <th>VersionNum</th>\n",
              "      <th>ImportDate</th>\n",
              "      <th>IssuerId2</th>\n",
              "      <th>FederalTIN</th>\n",
              "      <th>RateEffectiveDate</th>\n",
              "      <th>RateExpirationDate</th>\n",
              "      <th>...</th>\n",
              "      <th>IndividualRate</th>\n",
              "      <th>IndividualTobaccoRate</th>\n",
              "      <th>Couple</th>\n",
              "      <th>PrimarySubscriberAndOneDependent</th>\n",
              "      <th>PrimarySubscriberAndTwoDependents</th>\n",
              "      <th>PrimarySubscriberAndThreeOrMoreDependents</th>\n",
              "      <th>CoupleAndOneDependent</th>\n",
              "      <th>CoupleAndTwoDependents</th>\n",
              "      <th>CoupleAndThreeOrMoreDependents</th>\n",
              "      <th>RowNumber</th>\n",
              "    </tr>\n",
              "  </thead>\n",
              "  <tbody>\n",
              "    <tr>\n",
              "      <th>0</th>\n",
              "      <td>2014</td>\n",
              "      <td>AK</td>\n",
              "      <td>21989</td>\n",
              "      <td>HIOS</td>\n",
              "      <td>6</td>\n",
              "      <td>2014-03-19 07:06:49</td>\n",
              "      <td>21989</td>\n",
              "      <td>93-0438772</td>\n",
              "      <td>2014-01-01</td>\n",
              "      <td>2014-12-31</td>\n",
              "      <td>...</td>\n",
              "      <td>29.00</td>\n",
              "      <td>NaN</td>\n",
              "      <td>NaN</td>\n",
              "      <td>NaN</td>\n",
              "      <td>NaN</td>\n",
              "      <td>NaN</td>\n",
              "      <td>NaN</td>\n",
              "      <td>NaN</td>\n",
              "      <td>NaN</td>\n",
              "      <td>14</td>\n",
              "    </tr>\n",
              "    <tr>\n",
              "      <th>1</th>\n",
              "      <td>2014</td>\n",
              "      <td>AK</td>\n",
              "      <td>21989</td>\n",
              "      <td>HIOS</td>\n",
              "      <td>6</td>\n",
              "      <td>2014-03-19 07:06:49</td>\n",
              "      <td>21989</td>\n",
              "      <td>93-0438772</td>\n",
              "      <td>2014-01-01</td>\n",
              "      <td>2014-12-31</td>\n",
              "      <td>...</td>\n",
              "      <td>36.95</td>\n",
              "      <td>NaN</td>\n",
              "      <td>73.9</td>\n",
              "      <td>107.61</td>\n",
              "      <td>107.61</td>\n",
              "      <td>107.61</td>\n",
              "      <td>144.56</td>\n",
              "      <td>144.56</td>\n",
              "      <td>144.56</td>\n",
              "      <td>14</td>\n",
              "    </tr>\n",
              "    <tr>\n",
              "      <th>2</th>\n",
              "      <td>2014</td>\n",
              "      <td>AK</td>\n",
              "      <td>21989</td>\n",
              "      <td>HIOS</td>\n",
              "      <td>6</td>\n",
              "      <td>2014-03-19 07:06:49</td>\n",
              "      <td>21989</td>\n",
              "      <td>93-0438772</td>\n",
              "      <td>2014-01-01</td>\n",
              "      <td>2014-12-31</td>\n",
              "      <td>...</td>\n",
              "      <td>36.95</td>\n",
              "      <td>NaN</td>\n",
              "      <td>73.9</td>\n",
              "      <td>107.61</td>\n",
              "      <td>107.61</td>\n",
              "      <td>107.61</td>\n",
              "      <td>144.56</td>\n",
              "      <td>144.56</td>\n",
              "      <td>144.56</td>\n",
              "      <td>15</td>\n",
              "    </tr>\n",
              "    <tr>\n",
              "      <th>3</th>\n",
              "      <td>2014</td>\n",
              "      <td>AK</td>\n",
              "      <td>21989</td>\n",
              "      <td>HIOS</td>\n",
              "      <td>6</td>\n",
              "      <td>2014-03-19 07:06:49</td>\n",
              "      <td>21989</td>\n",
              "      <td>93-0438772</td>\n",
              "      <td>2014-01-01</td>\n",
              "      <td>2014-12-31</td>\n",
              "      <td>...</td>\n",
              "      <td>32.00</td>\n",
              "      <td>NaN</td>\n",
              "      <td>NaN</td>\n",
              "      <td>NaN</td>\n",
              "      <td>NaN</td>\n",
              "      <td>NaN</td>\n",
              "      <td>NaN</td>\n",
              "      <td>NaN</td>\n",
              "      <td>NaN</td>\n",
              "      <td>15</td>\n",
              "    </tr>\n",
              "    <tr>\n",
              "      <th>4</th>\n",
              "      <td>2014</td>\n",
              "      <td>AK</td>\n",
              "      <td>21989</td>\n",
              "      <td>HIOS</td>\n",
              "      <td>6</td>\n",
              "      <td>2014-03-19 07:06:49</td>\n",
              "      <td>21989</td>\n",
              "      <td>93-0438772</td>\n",
              "      <td>2014-01-01</td>\n",
              "      <td>2014-12-31</td>\n",
              "      <td>...</td>\n",
              "      <td>32.00</td>\n",
              "      <td>NaN</td>\n",
              "      <td>NaN</td>\n",
              "      <td>NaN</td>\n",
              "      <td>NaN</td>\n",
              "      <td>NaN</td>\n",
              "      <td>NaN</td>\n",
              "      <td>NaN</td>\n",
              "      <td>NaN</td>\n",
              "      <td>16</td>\n",
              "    </tr>\n",
              "  </tbody>\n",
              "</table>\n",
              "<p>5 rows × 24 columns</p>\n",
              "</div>\n",
              "      <button class=\"colab-df-convert\" onclick=\"convertToInteractive('df-6801fbc2-5d0a-4e89-9e63-3a81abdcb860')\"\n",
              "              title=\"Convert this dataframe to an interactive table.\"\n",
              "              style=\"display:none;\">\n",
              "        \n",
              "  <svg xmlns=\"http://www.w3.org/2000/svg\" height=\"24px\"viewBox=\"0 0 24 24\"\n",
              "       width=\"24px\">\n",
              "    <path d=\"M0 0h24v24H0V0z\" fill=\"none\"/>\n",
              "    <path d=\"M18.56 5.44l.94 2.06.94-2.06 2.06-.94-2.06-.94-.94-2.06-.94 2.06-2.06.94zm-11 1L8.5 8.5l.94-2.06 2.06-.94-2.06-.94L8.5 2.5l-.94 2.06-2.06.94zm10 10l.94 2.06.94-2.06 2.06-.94-2.06-.94-.94-2.06-.94 2.06-2.06.94z\"/><path d=\"M17.41 7.96l-1.37-1.37c-.4-.4-.92-.59-1.43-.59-.52 0-1.04.2-1.43.59L10.3 9.45l-7.72 7.72c-.78.78-.78 2.05 0 2.83L4 21.41c.39.39.9.59 1.41.59.51 0 1.02-.2 1.41-.59l7.78-7.78 2.81-2.81c.8-.78.8-2.07 0-2.86zM5.41 20L4 18.59l7.72-7.72 1.47 1.35L5.41 20z\"/>\n",
              "  </svg>\n",
              "      </button>\n",
              "      \n",
              "  <style>\n",
              "    .colab-df-container {\n",
              "      display:flex;\n",
              "      flex-wrap:wrap;\n",
              "      gap: 12px;\n",
              "    }\n",
              "\n",
              "    .colab-df-convert {\n",
              "      background-color: #E8F0FE;\n",
              "      border: none;\n",
              "      border-radius: 50%;\n",
              "      cursor: pointer;\n",
              "      display: none;\n",
              "      fill: #1967D2;\n",
              "      height: 32px;\n",
              "      padding: 0 0 0 0;\n",
              "      width: 32px;\n",
              "    }\n",
              "\n",
              "    .colab-df-convert:hover {\n",
              "      background-color: #E2EBFA;\n",
              "      box-shadow: 0px 1px 2px rgba(60, 64, 67, 0.3), 0px 1px 3px 1px rgba(60, 64, 67, 0.15);\n",
              "      fill: #174EA6;\n",
              "    }\n",
              "\n",
              "    [theme=dark] .colab-df-convert {\n",
              "      background-color: #3B4455;\n",
              "      fill: #D2E3FC;\n",
              "    }\n",
              "\n",
              "    [theme=dark] .colab-df-convert:hover {\n",
              "      background-color: #434B5C;\n",
              "      box-shadow: 0px 1px 3px 1px rgba(0, 0, 0, 0.15);\n",
              "      filter: drop-shadow(0px 1px 2px rgba(0, 0, 0, 0.3));\n",
              "      fill: #FFFFFF;\n",
              "    }\n",
              "  </style>\n",
              "\n",
              "      <script>\n",
              "        const buttonEl =\n",
              "          document.querySelector('#df-6801fbc2-5d0a-4e89-9e63-3a81abdcb860 button.colab-df-convert');\n",
              "        buttonEl.style.display =\n",
              "          google.colab.kernel.accessAllowed ? 'block' : 'none';\n",
              "\n",
              "        async function convertToInteractive(key) {\n",
              "          const element = document.querySelector('#df-6801fbc2-5d0a-4e89-9e63-3a81abdcb860');\n",
              "          const dataTable =\n",
              "            await google.colab.kernel.invokeFunction('convertToInteractive',\n",
              "                                                     [key], {});\n",
              "          if (!dataTable) return;\n",
              "\n",
              "          const docLinkHtml = 'Like what you see? Visit the ' +\n",
              "            '<a target=\"_blank\" href=https://colab.research.google.com/notebooks/data_table.ipynb>data table notebook</a>'\n",
              "            + ' to learn more about interactive tables.';\n",
              "          element.innerHTML = '';\n",
              "          dataTable['output_type'] = 'display_data';\n",
              "          await google.colab.output.renderOutput(dataTable, element);\n",
              "          const docLink = document.createElement('div');\n",
              "          docLink.innerHTML = docLinkHtml;\n",
              "          element.appendChild(docLink);\n",
              "        }\n",
              "      </script>\n",
              "    </div>\n",
              "  </div>\n",
              "  "
            ]
          },
          "metadata": {},
          "execution_count": 18
        }
      ]
    },
    {
      "cell_type": "code",
      "source": [
        "#Reading the file using config file\n",
        "file_type = config_data['file_type']\n",
        "source_file = \"/content/\" + config_data['file_name'] + f'.{file_type}'"
      ],
      "metadata": {
        "id": "6TcQzHbl8yZL"
      },
      "execution_count": 19,
      "outputs": []
    },
    {
      "cell_type": "code",
      "source": [
        "import pandas as pd\n",
        "df = pd.read_csv(source_file,config_data['inbound_delimiter'])\n",
        "df.head()"
      ],
      "metadata": {
        "colab": {
          "base_uri": "https://localhost:8080/",
          "height": 422
        },
        "id": "hM9jilLR9DLJ",
        "outputId": "c34543bb-b5c4-4425-f68d-9caac4f378a4"
      },
      "execution_count": 20,
      "outputs": [
        {
          "output_type": "stream",
          "name": "stderr",
          "text": [
            "<ipython-input-20-cf35396d3a9f>:2: FutureWarning: In a future version of pandas all arguments of read_csv except for the argument 'filepath_or_buffer' will be keyword-only.\n",
            "  df = pd.read_csv(source_file,config_data['inbound_delimiter'])\n"
          ]
        },
        {
          "output_type": "execute_result",
          "data": {
            "text/plain": [
              "   BusinessYear StateCode  IssuerId SourceName  VersionNum  \\\n",
              "0          2014        AK     21989       HIOS           6   \n",
              "1          2014        AK     21989       HIOS           6   \n",
              "2          2014        AK     21989       HIOS           6   \n",
              "3          2014        AK     21989       HIOS           6   \n",
              "4          2014        AK     21989       HIOS           6   \n",
              "\n",
              "            ImportDate  IssuerId2  FederalTIN RateEffectiveDate  \\\n",
              "0  2014-03-19 07:06:49      21989  93-0438772        2014-01-01   \n",
              "1  2014-03-19 07:06:49      21989  93-0438772        2014-01-01   \n",
              "2  2014-03-19 07:06:49      21989  93-0438772        2014-01-01   \n",
              "3  2014-03-19 07:06:49      21989  93-0438772        2014-01-01   \n",
              "4  2014-03-19 07:06:49      21989  93-0438772        2014-01-01   \n",
              "\n",
              "  RateExpirationDate  ... IndividualRate IndividualTobaccoRate Couple  \\\n",
              "0         2014-12-31  ...          29.00                   NaN    NaN   \n",
              "1         2014-12-31  ...          36.95                   NaN   73.9   \n",
              "2         2014-12-31  ...          36.95                   NaN   73.9   \n",
              "3         2014-12-31  ...          32.00                   NaN    NaN   \n",
              "4         2014-12-31  ...          32.00                   NaN    NaN   \n",
              "\n",
              "  PrimarySubscriberAndOneDependent  PrimarySubscriberAndTwoDependents  \\\n",
              "0                              NaN                                NaN   \n",
              "1                           107.61                             107.61   \n",
              "2                           107.61                             107.61   \n",
              "3                              NaN                                NaN   \n",
              "4                              NaN                                NaN   \n",
              "\n",
              "   PrimarySubscriberAndThreeOrMoreDependents  CoupleAndOneDependent  \\\n",
              "0                                        NaN                    NaN   \n",
              "1                                     107.61                 144.56   \n",
              "2                                     107.61                 144.56   \n",
              "3                                        NaN                    NaN   \n",
              "4                                        NaN                    NaN   \n",
              "\n",
              "   CoupleAndTwoDependents  CoupleAndThreeOrMoreDependents  RowNumber  \n",
              "0                     NaN                             NaN       14.0  \n",
              "1                  144.56                          144.56       14.0  \n",
              "2                  144.56                          144.56       15.0  \n",
              "3                     NaN                             NaN       15.0  \n",
              "4                     NaN                             NaN       16.0  \n",
              "\n",
              "[5 rows x 24 columns]"
            ],
            "text/html": [
              "\n",
              "  <div id=\"df-81979f96-b4ad-4c80-ae32-5807d47474bf\">\n",
              "    <div class=\"colab-df-container\">\n",
              "      <div>\n",
              "<style scoped>\n",
              "    .dataframe tbody tr th:only-of-type {\n",
              "        vertical-align: middle;\n",
              "    }\n",
              "\n",
              "    .dataframe tbody tr th {\n",
              "        vertical-align: top;\n",
              "    }\n",
              "\n",
              "    .dataframe thead th {\n",
              "        text-align: right;\n",
              "    }\n",
              "</style>\n",
              "<table border=\"1\" class=\"dataframe\">\n",
              "  <thead>\n",
              "    <tr style=\"text-align: right;\">\n",
              "      <th></th>\n",
              "      <th>BusinessYear</th>\n",
              "      <th>StateCode</th>\n",
              "      <th>IssuerId</th>\n",
              "      <th>SourceName</th>\n",
              "      <th>VersionNum</th>\n",
              "      <th>ImportDate</th>\n",
              "      <th>IssuerId2</th>\n",
              "      <th>FederalTIN</th>\n",
              "      <th>RateEffectiveDate</th>\n",
              "      <th>RateExpirationDate</th>\n",
              "      <th>...</th>\n",
              "      <th>IndividualRate</th>\n",
              "      <th>IndividualTobaccoRate</th>\n",
              "      <th>Couple</th>\n",
              "      <th>PrimarySubscriberAndOneDependent</th>\n",
              "      <th>PrimarySubscriberAndTwoDependents</th>\n",
              "      <th>PrimarySubscriberAndThreeOrMoreDependents</th>\n",
              "      <th>CoupleAndOneDependent</th>\n",
              "      <th>CoupleAndTwoDependents</th>\n",
              "      <th>CoupleAndThreeOrMoreDependents</th>\n",
              "      <th>RowNumber</th>\n",
              "    </tr>\n",
              "  </thead>\n",
              "  <tbody>\n",
              "    <tr>\n",
              "      <th>0</th>\n",
              "      <td>2014</td>\n",
              "      <td>AK</td>\n",
              "      <td>21989</td>\n",
              "      <td>HIOS</td>\n",
              "      <td>6</td>\n",
              "      <td>2014-03-19 07:06:49</td>\n",
              "      <td>21989</td>\n",
              "      <td>93-0438772</td>\n",
              "      <td>2014-01-01</td>\n",
              "      <td>2014-12-31</td>\n",
              "      <td>...</td>\n",
              "      <td>29.00</td>\n",
              "      <td>NaN</td>\n",
              "      <td>NaN</td>\n",
              "      <td>NaN</td>\n",
              "      <td>NaN</td>\n",
              "      <td>NaN</td>\n",
              "      <td>NaN</td>\n",
              "      <td>NaN</td>\n",
              "      <td>NaN</td>\n",
              "      <td>14.0</td>\n",
              "    </tr>\n",
              "    <tr>\n",
              "      <th>1</th>\n",
              "      <td>2014</td>\n",
              "      <td>AK</td>\n",
              "      <td>21989</td>\n",
              "      <td>HIOS</td>\n",
              "      <td>6</td>\n",
              "      <td>2014-03-19 07:06:49</td>\n",
              "      <td>21989</td>\n",
              "      <td>93-0438772</td>\n",
              "      <td>2014-01-01</td>\n",
              "      <td>2014-12-31</td>\n",
              "      <td>...</td>\n",
              "      <td>36.95</td>\n",
              "      <td>NaN</td>\n",
              "      <td>73.9</td>\n",
              "      <td>107.61</td>\n",
              "      <td>107.61</td>\n",
              "      <td>107.61</td>\n",
              "      <td>144.56</td>\n",
              "      <td>144.56</td>\n",
              "      <td>144.56</td>\n",
              "      <td>14.0</td>\n",
              "    </tr>\n",
              "    <tr>\n",
              "      <th>2</th>\n",
              "      <td>2014</td>\n",
              "      <td>AK</td>\n",
              "      <td>21989</td>\n",
              "      <td>HIOS</td>\n",
              "      <td>6</td>\n",
              "      <td>2014-03-19 07:06:49</td>\n",
              "      <td>21989</td>\n",
              "      <td>93-0438772</td>\n",
              "      <td>2014-01-01</td>\n",
              "      <td>2014-12-31</td>\n",
              "      <td>...</td>\n",
              "      <td>36.95</td>\n",
              "      <td>NaN</td>\n",
              "      <td>73.9</td>\n",
              "      <td>107.61</td>\n",
              "      <td>107.61</td>\n",
              "      <td>107.61</td>\n",
              "      <td>144.56</td>\n",
              "      <td>144.56</td>\n",
              "      <td>144.56</td>\n",
              "      <td>15.0</td>\n",
              "    </tr>\n",
              "    <tr>\n",
              "      <th>3</th>\n",
              "      <td>2014</td>\n",
              "      <td>AK</td>\n",
              "      <td>21989</td>\n",
              "      <td>HIOS</td>\n",
              "      <td>6</td>\n",
              "      <td>2014-03-19 07:06:49</td>\n",
              "      <td>21989</td>\n",
              "      <td>93-0438772</td>\n",
              "      <td>2014-01-01</td>\n",
              "      <td>2014-12-31</td>\n",
              "      <td>...</td>\n",
              "      <td>32.00</td>\n",
              "      <td>NaN</td>\n",
              "      <td>NaN</td>\n",
              "      <td>NaN</td>\n",
              "      <td>NaN</td>\n",
              "      <td>NaN</td>\n",
              "      <td>NaN</td>\n",
              "      <td>NaN</td>\n",
              "      <td>NaN</td>\n",
              "      <td>15.0</td>\n",
              "    </tr>\n",
              "    <tr>\n",
              "      <th>4</th>\n",
              "      <td>2014</td>\n",
              "      <td>AK</td>\n",
              "      <td>21989</td>\n",
              "      <td>HIOS</td>\n",
              "      <td>6</td>\n",
              "      <td>2014-03-19 07:06:49</td>\n",
              "      <td>21989</td>\n",
              "      <td>93-0438772</td>\n",
              "      <td>2014-01-01</td>\n",
              "      <td>2014-12-31</td>\n",
              "      <td>...</td>\n",
              "      <td>32.00</td>\n",
              "      <td>NaN</td>\n",
              "      <td>NaN</td>\n",
              "      <td>NaN</td>\n",
              "      <td>NaN</td>\n",
              "      <td>NaN</td>\n",
              "      <td>NaN</td>\n",
              "      <td>NaN</td>\n",
              "      <td>NaN</td>\n",
              "      <td>16.0</td>\n",
              "    </tr>\n",
              "  </tbody>\n",
              "</table>\n",
              "<p>5 rows × 24 columns</p>\n",
              "</div>\n",
              "      <button class=\"colab-df-convert\" onclick=\"convertToInteractive('df-81979f96-b4ad-4c80-ae32-5807d47474bf')\"\n",
              "              title=\"Convert this dataframe to an interactive table.\"\n",
              "              style=\"display:none;\">\n",
              "        \n",
              "  <svg xmlns=\"http://www.w3.org/2000/svg\" height=\"24px\"viewBox=\"0 0 24 24\"\n",
              "       width=\"24px\">\n",
              "    <path d=\"M0 0h24v24H0V0z\" fill=\"none\"/>\n",
              "    <path d=\"M18.56 5.44l.94 2.06.94-2.06 2.06-.94-2.06-.94-.94-2.06-.94 2.06-2.06.94zm-11 1L8.5 8.5l.94-2.06 2.06-.94-2.06-.94L8.5 2.5l-.94 2.06-2.06.94zm10 10l.94 2.06.94-2.06 2.06-.94-2.06-.94-.94-2.06-.94 2.06-2.06.94z\"/><path d=\"M17.41 7.96l-1.37-1.37c-.4-.4-.92-.59-1.43-.59-.52 0-1.04.2-1.43.59L10.3 9.45l-7.72 7.72c-.78.78-.78 2.05 0 2.83L4 21.41c.39.39.9.59 1.41.59.51 0 1.02-.2 1.41-.59l7.78-7.78 2.81-2.81c.8-.78.8-2.07 0-2.86zM5.41 20L4 18.59l7.72-7.72 1.47 1.35L5.41 20z\"/>\n",
              "  </svg>\n",
              "      </button>\n",
              "      \n",
              "  <style>\n",
              "    .colab-df-container {\n",
              "      display:flex;\n",
              "      flex-wrap:wrap;\n",
              "      gap: 12px;\n",
              "    }\n",
              "\n",
              "    .colab-df-convert {\n",
              "      background-color: #E8F0FE;\n",
              "      border: none;\n",
              "      border-radius: 50%;\n",
              "      cursor: pointer;\n",
              "      display: none;\n",
              "      fill: #1967D2;\n",
              "      height: 32px;\n",
              "      padding: 0 0 0 0;\n",
              "      width: 32px;\n",
              "    }\n",
              "\n",
              "    .colab-df-convert:hover {\n",
              "      background-color: #E2EBFA;\n",
              "      box-shadow: 0px 1px 2px rgba(60, 64, 67, 0.3), 0px 1px 3px 1px rgba(60, 64, 67, 0.15);\n",
              "      fill: #174EA6;\n",
              "    }\n",
              "\n",
              "    [theme=dark] .colab-df-convert {\n",
              "      background-color: #3B4455;\n",
              "      fill: #D2E3FC;\n",
              "    }\n",
              "\n",
              "    [theme=dark] .colab-df-convert:hover {\n",
              "      background-color: #434B5C;\n",
              "      box-shadow: 0px 1px 3px 1px rgba(0, 0, 0, 0.15);\n",
              "      filter: drop-shadow(0px 1px 2px rgba(0, 0, 0, 0.3));\n",
              "      fill: #FFFFFF;\n",
              "    }\n",
              "  </style>\n",
              "\n",
              "      <script>\n",
              "        const buttonEl =\n",
              "          document.querySelector('#df-81979f96-b4ad-4c80-ae32-5807d47474bf button.colab-df-convert');\n",
              "        buttonEl.style.display =\n",
              "          google.colab.kernel.accessAllowed ? 'block' : 'none';\n",
              "\n",
              "        async function convertToInteractive(key) {\n",
              "          const element = document.querySelector('#df-81979f96-b4ad-4c80-ae32-5807d47474bf');\n",
              "          const dataTable =\n",
              "            await google.colab.kernel.invokeFunction('convertToInteractive',\n",
              "                                                     [key], {});\n",
              "          if (!dataTable) return;\n",
              "\n",
              "          const docLinkHtml = 'Like what you see? Visit the ' +\n",
              "            '<a target=\"_blank\" href=https://colab.research.google.com/notebooks/data_table.ipynb>data table notebook</a>'\n",
              "            + ' to learn more about interactive tables.';\n",
              "          element.innerHTML = '';\n",
              "          dataTable['output_type'] = 'display_data';\n",
              "          await google.colab.output.renderOutput(dataTable, element);\n",
              "          const docLink = document.createElement('div');\n",
              "          docLink.innerHTML = docLinkHtml;\n",
              "          element.appendChild(docLink);\n",
              "        }\n",
              "      </script>\n",
              "    </div>\n",
              "  </div>\n",
              "  "
            ]
          },
          "metadata": {},
          "execution_count": 20
        }
      ]
    },
    {
      "cell_type": "code",
      "source": [
        "print(\"columns of files are:\" ,df.columns)\n",
        "print(\"columns of YAML are:\" ,config_data['columns'])"
      ],
      "metadata": {
        "colab": {
          "base_uri": "https://localhost:8080/"
        },
        "id": "nFV3MUCp9V_v",
        "outputId": "7d29c523-045d-4bd7-fff5-9bfeadb36a8c"
      },
      "execution_count": 22,
      "outputs": [
        {
          "output_type": "stream",
          "name": "stdout",
          "text": [
            "columns of files are: Index(['businessyear', 'statecode', 'issuerid', 'sourcename', 'versionnum',\n",
            "       'importdate', 'issuerid2', 'federaltin', 'rateeffectivedate',\n",
            "       'rateexpirationdate', 'planid', 'ratingareaid', 'tobacco', 'age',\n",
            "       'individualrate', 'individualtobaccorate', 'couple',\n",
            "       'primarysubscriberandonedependent', 'primarysubscriberandtwodependents',\n",
            "       'primarysubscriberandthreeormoredependents', 'coupleandonedependent',\n",
            "       'coupleandtwodependents', 'coupleandthreeormoredependents',\n",
            "       'rownumber'],\n",
            "      dtype='object')\n",
            "columns of YAML are: ['BusinessYear - StateCode - IssuerId - SourceName - VersionNum - ImportDate - IssuerId2 - FederalTIN - RateEffectiveDate - RateExpirationDate - PlanId - RatingAreaId - Tobacco - Age - IndividualRate - IndividualTobaccoRate - Couple - PrimarySubscriberAndOneDependent - PrimarySubscriberAndTwoDependents - PrimarySubscriberAndThreeOrMoreDependents - CoupleAndOneDependent - CoupleAndTwoDependents - CoupleAndThreeOrMoreDependents - RowNumber']\n"
          ]
        }
      ]
    },
    {
      "cell_type": "code",
      "source": [
        "import datetime\n",
        "import csv\n",
        "import gzip\n",
        "\n",
        "from dask import dataframe as dd\n",
        "df = dd.read_csv('/content/Rate.csv',delimiter=',')\n",
        "\n",
        "# Write csv in gz format in pipe separated text file (|)\n",
        "df.to_csv('Rate.csv.gz',\n",
        "          sep='|',\n",
        "          header=True,\n",
        "          index=False,\n",
        "          quoting=csv.QUOTE_ALL,\n",
        "          compression='gzip',\n",
        "          quotechar='\"',\n",
        "          doublequote=True,\n",
        "          line_terminator='\\n')"
      ],
      "metadata": {
        "colab": {
          "base_uri": "https://localhost:8080/"
        },
        "id": "H1IDPjRY9XQB",
        "outputId": "07566ac6-40b4-498c-921e-81aafd8f9771"
      },
      "execution_count": 23,
      "outputs": [
        {
          "output_type": "stream",
          "name": "stderr",
          "text": [
            "/usr/local/lib/python3.10/dist-packages/dask/dataframe/io/csv.py:788: FutureWarning: the 'line_terminator'' keyword is deprecated, use 'lineterminator' instead.\n",
            "  df.to_csv(f, **kwargs)\n",
            "/usr/local/lib/python3.10/dist-packages/dask/dataframe/io/csv.py:788: FutureWarning: the 'line_terminator'' keyword is deprecated, use 'lineterminator' instead.\n",
            "  df.to_csv(f, **kwargs)\n",
            "/usr/local/lib/python3.10/dist-packages/dask/dataframe/io/csv.py:788: FutureWarning: the 'line_terminator'' keyword is deprecated, use 'lineterminator' instead.\n",
            "  df.to_csv(f, **kwargs)\n",
            "/usr/local/lib/python3.10/dist-packages/dask/dataframe/io/csv.py:788: FutureWarning: the 'line_terminator'' keyword is deprecated, use 'lineterminator' instead.\n",
            "  df.to_csv(f, **kwargs)\n",
            "/usr/local/lib/python3.10/dist-packages/dask/dataframe/io/csv.py:788: FutureWarning: the 'line_terminator'' keyword is deprecated, use 'lineterminator' instead.\n",
            "  df.to_csv(f, **kwargs)\n",
            "/usr/local/lib/python3.10/dist-packages/dask/dataframe/io/csv.py:788: FutureWarning: the 'line_terminator'' keyword is deprecated, use 'lineterminator' instead.\n",
            "  df.to_csv(f, **kwargs)\n",
            "/usr/local/lib/python3.10/dist-packages/dask/dataframe/io/csv.py:788: FutureWarning: the 'line_terminator'' keyword is deprecated, use 'lineterminator' instead.\n",
            "  df.to_csv(f, **kwargs)\n",
            "/usr/local/lib/python3.10/dist-packages/dask/dataframe/io/csv.py:788: FutureWarning: the 'line_terminator'' keyword is deprecated, use 'lineterminator' instead.\n",
            "  df.to_csv(f, **kwargs)\n"
          ]
        },
        {
          "output_type": "execute_result",
          "data": {
            "text/plain": [
              "['/content/Rate.csv.gz/0.part',\n",
              " '/content/Rate.csv.gz/1.part',\n",
              " '/content/Rate.csv.gz/2.part',\n",
              " '/content/Rate.csv.gz/3.part',\n",
              " '/content/Rate.csv.gz/4.part',\n",
              " '/content/Rate.csv.gz/5.part',\n",
              " '/content/Rate.csv.gz/6.part',\n",
              " '/content/Rate.csv.gz/7.part',\n",
              " '/content/Rate.csv.gz/8.part']"
            ]
          },
          "metadata": {},
          "execution_count": 23
        }
      ]
    },
    {
      "cell_type": "code",
      "source": [
        "#number of files in gz format folder\n",
        "import os\n",
        "entries = os.listdir('/content/Rate.csv.gz')\n",
        "for entry in entries:\n",
        "    print(entry)"
      ],
      "metadata": {
        "colab": {
          "base_uri": "https://localhost:8080/"
        },
        "id": "7cV_JTue9ib6",
        "outputId": "7893a934-899e-4efd-97ed-ccde11f7243f"
      },
      "execution_count": 25,
      "outputs": [
        {
          "output_type": "stream",
          "name": "stdout",
          "text": [
            "6.part\n",
            "7.part\n",
            "3.part\n",
            "5.part\n",
            "2.part\n",
            "1.part\n",
            "8.part\n",
            "0.part\n",
            "4.part\n"
          ]
        }
      ]
    },
    {
      "cell_type": "code",
      "source": [
        "#size of the gz format folder\n",
        "os.path.getsize('/content/Rate.csv.gz')"
      ],
      "metadata": {
        "colab": {
          "base_uri": "https://localhost:8080/"
        },
        "id": "NPmFo8bz9_Z3",
        "outputId": "2af3a42b-3803-493c-a1e5-81a94af3e9f4"
      },
      "execution_count": 26,
      "outputs": [
        {
          "output_type": "execute_result",
          "data": {
            "text/plain": [
              "4096"
            ]
          },
          "metadata": {},
          "execution_count": 26
        }
      ]
    }
  ]
}